{
 "cells": [
  {
   "cell_type": "code",
   "execution_count": 109,
   "metadata": {},
   "outputs": [],
   "source": [
    "import pandas as pd\n",
    "import numpy as np\n",
    "import matplotlib.pyplot as plt\n",
    "from sklearn.ensemble import RandomForestClassifier\n",
    "from sklearn.model_selection import train_test_split\n",
    "from sklearn.metrics import accuracy_score"
   ]
  },
  {
   "cell_type": "code",
   "execution_count": 110,
   "metadata": {},
   "outputs": [
    {
     "name": "stderr",
     "output_type": "stream",
     "text": [
      "C:\\Users\\jesse\\AppData\\Local\\Temp\\ipykernel_20816\\1083864306.py:1: DtypeWarning: Columns (13) have mixed types. Specify dtype option on import or set low_memory=False.\n",
      "  data = pd.read_csv('../animal-predictions/Data_prep/Louisville_Animal_Cleaned.csv')\n"
     ]
    }
   ],
   "source": [
    "data = pd.read_csv('../animal-predictions/Data_prep/Louisville_Animal_Cleaned.csv')"
   ]
  },
  {
   "cell_type": "code",
   "execution_count": 111,
   "metadata": {},
   "outputs": [
    {
     "data": {
      "text/html": [
       "<div>\n",
       "<style scoped>\n",
       "    .dataframe tbody tr th:only-of-type {\n",
       "        vertical-align: middle;\n",
       "    }\n",
       "\n",
       "    .dataframe tbody tr th {\n",
       "        vertical-align: top;\n",
       "    }\n",
       "\n",
       "    .dataframe thead th {\n",
       "        text-align: right;\n",
       "    }\n",
       "</style>\n",
       "<table border=\"1\" class=\"dataframe\">\n",
       "  <thead>\n",
       "    <tr style=\"text-align: right;\">\n",
       "      <th></th>\n",
       "      <th>kennel</th>\n",
       "      <th>animalid</th>\n",
       "      <th>jurisdiction</th>\n",
       "      <th>intype</th>\n",
       "      <th>insubtype</th>\n",
       "      <th>surreason</th>\n",
       "      <th>outtype</th>\n",
       "      <th>outsubtype</th>\n",
       "      <th>animaltype</th>\n",
       "      <th>sex</th>\n",
       "      <th>...</th>\n",
       "      <th>petsize</th>\n",
       "      <th>color</th>\n",
       "      <th>sourcezipcode</th>\n",
       "      <th>ObjectId</th>\n",
       "      <th>Mixed</th>\n",
       "      <th>days_in</th>\n",
       "      <th>in_season</th>\n",
       "      <th>out_season</th>\n",
       "      <th>breed</th>\n",
       "      <th>mixed_breed</th>\n",
       "    </tr>\n",
       "  </thead>\n",
       "  <tbody>\n",
       "    <tr>\n",
       "      <th>0</th>\n",
       "      <td>FOLLOWUP</td>\n",
       "      <td>A713651</td>\n",
       "      <td>40202</td>\n",
       "      <td>STRAY</td>\n",
       "      <td>OTC</td>\n",
       "      <td>STRAY</td>\n",
       "      <td>RTO</td>\n",
       "      <td>IN KENNEL</td>\n",
       "      <td>DOG</td>\n",
       "      <td>F</td>\n",
       "      <td>...</td>\n",
       "      <td>MED</td>\n",
       "      <td>TAN / BLACK</td>\n",
       "      <td>40208</td>\n",
       "      <td>1</td>\n",
       "      <td>True</td>\n",
       "      <td>3.0</td>\n",
       "      <td>SPRING</td>\n",
       "      <td>SPRING</td>\n",
       "      <td>ENG BULLDOG</td>\n",
       "      <td>UNKNOWN</td>\n",
       "    </tr>\n",
       "    <tr>\n",
       "      <th>1</th>\n",
       "      <td>N46</td>\n",
       "      <td>A713652</td>\n",
       "      <td>40208</td>\n",
       "      <td>STRAY</td>\n",
       "      <td>OTC</td>\n",
       "      <td>STRAY</td>\n",
       "      <td>ADOPTION</td>\n",
       "      <td>WALK IN</td>\n",
       "      <td>CAT</td>\n",
       "      <td>N</td>\n",
       "      <td>...</td>\n",
       "      <td>LARGE</td>\n",
       "      <td>ORG TABBY</td>\n",
       "      <td>40208</td>\n",
       "      <td>2</td>\n",
       "      <td>False</td>\n",
       "      <td>5.0</td>\n",
       "      <td>SPRING</td>\n",
       "      <td>SPRING</td>\n",
       "      <td>DOMESTIC SH</td>\n",
       "      <td>NaN</td>\n",
       "    </tr>\n",
       "    <tr>\n",
       "      <th>2</th>\n",
       "      <td>N17</td>\n",
       "      <td>A733898</td>\n",
       "      <td>40208</td>\n",
       "      <td>STRAY</td>\n",
       "      <td>OTC</td>\n",
       "      <td>STRAY</td>\n",
       "      <td>FOSTER</td>\n",
       "      <td>VACATION</td>\n",
       "      <td>DOG</td>\n",
       "      <td>S</td>\n",
       "      <td>...</td>\n",
       "      <td>MED</td>\n",
       "      <td>CHOCOLATE / WHITE</td>\n",
       "      <td>40208</td>\n",
       "      <td>3</td>\n",
       "      <td>False</td>\n",
       "      <td>26.0</td>\n",
       "      <td>SPRING</td>\n",
       "      <td>SPRING</td>\n",
       "      <td>PIT BULL</td>\n",
       "      <td>NaN</td>\n",
       "    </tr>\n",
       "    <tr>\n",
       "      <th>3</th>\n",
       "      <td>N30</td>\n",
       "      <td>A712650</td>\n",
       "      <td>40222</td>\n",
       "      <td>STRAY</td>\n",
       "      <td>OTC</td>\n",
       "      <td>STRAY</td>\n",
       "      <td>ADOPTION</td>\n",
       "      <td>INTERNET</td>\n",
       "      <td>DOG</td>\n",
       "      <td>N</td>\n",
       "      <td>...</td>\n",
       "      <td>PUPPY</td>\n",
       "      <td>TAN</td>\n",
       "      <td>40208</td>\n",
       "      <td>4</td>\n",
       "      <td>True</td>\n",
       "      <td>13.0</td>\n",
       "      <td>SPRING</td>\n",
       "      <td>SPRING</td>\n",
       "      <td>PIT BULL</td>\n",
       "      <td>UNKNOWN</td>\n",
       "    </tr>\n",
       "    <tr>\n",
       "      <th>4</th>\n",
       "      <td>409</td>\n",
       "      <td>A743389</td>\n",
       "      <td>40216</td>\n",
       "      <td>STRAY</td>\n",
       "      <td>OTC</td>\n",
       "      <td>STRAY</td>\n",
       "      <td>EUTH</td>\n",
       "      <td>BEHAV HIST</td>\n",
       "      <td>DOG</td>\n",
       "      <td>M</td>\n",
       "      <td>...</td>\n",
       "      <td>MED</td>\n",
       "      <td>BL BRINDLE</td>\n",
       "      <td>40216</td>\n",
       "      <td>5</td>\n",
       "      <td>False</td>\n",
       "      <td>9.0</td>\n",
       "      <td>SUMMER</td>\n",
       "      <td>SUMMER</td>\n",
       "      <td>PIT BULL</td>\n",
       "      <td>NaN</td>\n",
       "    </tr>\n",
       "  </tbody>\n",
       "</table>\n",
       "<p>5 rows × 21 columns</p>\n",
       "</div>"
      ],
      "text/plain": [
       "     kennel animalid jurisdiction intype insubtype surreason   outtype  \\\n",
       "0  FOLLOWUP  A713651        40202  STRAY       OTC     STRAY       RTO   \n",
       "1       N46  A713652        40208  STRAY       OTC     STRAY  ADOPTION   \n",
       "2       N17  A733898        40208  STRAY       OTC     STRAY    FOSTER   \n",
       "3       N30  A712650        40222  STRAY       OTC     STRAY  ADOPTION   \n",
       "4       409  A743389        40216  STRAY       OTC     STRAY      EUTH   \n",
       "\n",
       "   outsubtype animaltype sex  ... petsize              color sourcezipcode  \\\n",
       "0   IN KENNEL        DOG   F  ...     MED        TAN / BLACK         40208   \n",
       "1     WALK IN        CAT   N  ...   LARGE          ORG TABBY         40208   \n",
       "2    VACATION        DOG   S  ...     MED  CHOCOLATE / WHITE         40208   \n",
       "3    INTERNET        DOG   N  ...   PUPPY                TAN         40208   \n",
       "4  BEHAV HIST        DOG   M  ...     MED         BL BRINDLE         40216   \n",
       "\n",
       "  ObjectId  Mixed  days_in  in_season out_season        breed mixed_breed  \n",
       "0        1   True      3.0     SPRING     SPRING  ENG BULLDOG     UNKNOWN  \n",
       "1        2  False      5.0     SPRING     SPRING  DOMESTIC SH         NaN  \n",
       "2        3  False     26.0     SPRING     SPRING     PIT BULL         NaN  \n",
       "3        4   True     13.0     SPRING     SPRING     PIT BULL     UNKNOWN  \n",
       "4        5  False      9.0     SUMMER     SUMMER     PIT BULL         NaN  \n",
       "\n",
       "[5 rows x 21 columns]"
      ]
     },
     "execution_count": 111,
     "metadata": {},
     "output_type": "execute_result"
    }
   ],
   "source": [
    "data.head()"
   ]
  },
  {
   "cell_type": "code",
   "execution_count": 112,
   "metadata": {},
   "outputs": [],
   "source": [
    "#replace all nas with 0\n",
    "# data = data.fillna('N/A')\n"
   ]
  },
  {
   "cell_type": "code",
   "execution_count": 113,
   "metadata": {},
   "outputs": [
    {
     "data": {
      "text/plain": [
       "Index(['kennel', 'animalid', 'jurisdiction', 'intype', 'insubtype',\n",
       "       'surreason', 'outtype', 'outsubtype', 'animaltype', 'sex', 'bites',\n",
       "       'petsize', 'color', 'sourcezipcode', 'ObjectId', 'Mixed', 'days_in',\n",
       "       'in_season', 'out_season', 'breed', 'mixed_breed'],\n",
       "      dtype='object')"
      ]
     },
     "execution_count": 113,
     "metadata": {},
     "output_type": "execute_result"
    }
   ],
   "source": [
    "data.columns"
   ]
  },
  {
   "cell_type": "code",
   "execution_count": 114,
   "metadata": {},
   "outputs": [
    {
     "name": "stdout",
     "output_type": "stream",
     "text": [
      "<class 'pandas.core.frame.DataFrame'>\n",
      "RangeIndex: 41974 entries, 0 to 41973\n",
      "Data columns (total 21 columns):\n",
      " #   Column         Non-Null Count  Dtype  \n",
      "---  ------         --------------  -----  \n",
      " 0   kennel         41974 non-null  object \n",
      " 1   animalid       41974 non-null  object \n",
      " 2   jurisdiction   40177 non-null  object \n",
      " 3   intype         41974 non-null  object \n",
      " 4   insubtype      41918 non-null  object \n",
      " 5   surreason      40177 non-null  object \n",
      " 6   outtype        41974 non-null  object \n",
      " 7   outsubtype     32056 non-null  object \n",
      " 8   animaltype     41974 non-null  object \n",
      " 9   sex            41829 non-null  object \n",
      " 10  bites          40177 non-null  object \n",
      " 11  petsize        41572 non-null  object \n",
      " 12  color          41972 non-null  object \n",
      " 13  sourcezipcode  41696 non-null  object \n",
      " 14  ObjectId       41974 non-null  int64  \n",
      " 15  Mixed          41974 non-null  bool   \n",
      " 16  days_in        41965 non-null  float64\n",
      " 17  in_season      41974 non-null  object \n",
      " 18  out_season     41965 non-null  object \n",
      " 19  breed          41974 non-null  object \n",
      " 20  mixed_breed    9310 non-null   object \n",
      "dtypes: bool(1), float64(1), int64(1), object(18)\n",
      "memory usage: 6.4+ MB\n"
     ]
    }
   ],
   "source": [
    "data.info()"
   ]
  },
  {
   "cell_type": "code",
   "execution_count": 115,
   "metadata": {},
   "outputs": [],
   "source": [
    "#drop outsubtype and objectId columns\n",
    "data = data.drop(['outsubtype', 'ObjectId','kennel','animalid','jurisdiction','sourcezipcode','mixed_breed'], axis=1)"
   ]
  },
  {
   "cell_type": "code",
   "execution_count": 116,
   "metadata": {},
   "outputs": [],
   "source": [
    "#drop nulls\n",
    "data = data.dropna()"
   ]
  },
  {
   "cell_type": "code",
   "execution_count": 117,
   "metadata": {},
   "outputs": [],
   "source": [
    "#save columns names in a list\n",
    "cols = data.columns.tolist()"
   ]
  },
  {
   "cell_type": "code",
   "execution_count": 118,
   "metadata": {},
   "outputs": [],
   "source": [
    "from sklearn.preprocessing import LabelEncoder\n",
    "\n",
    "label_encoder = LabelEncoder()\n",
    "for col in cols:\n",
    "    if data[col].dtype == 'object':\n",
    "        data[col] = label_encoder.fit_transform(data[col])"
   ]
  },
  {
   "cell_type": "code",
   "execution_count": 119,
   "metadata": {},
   "outputs": [
    {
     "name": "stdout",
     "output_type": "stream",
     "text": [
      "<class 'pandas.core.frame.DataFrame'>\n",
      "Int64Index: 40102 entries, 0 to 41973\n",
      "Data columns (total 14 columns):\n",
      " #   Column      Non-Null Count  Dtype  \n",
      "---  ------      --------------  -----  \n",
      " 0   intype      40102 non-null  int32  \n",
      " 1   insubtype   40102 non-null  int32  \n",
      " 2   surreason   40102 non-null  int32  \n",
      " 3   outtype     40102 non-null  int32  \n",
      " 4   animaltype  40102 non-null  int32  \n",
      " 5   sex         40102 non-null  int32  \n",
      " 6   bites       40102 non-null  int32  \n",
      " 7   petsize     40102 non-null  int32  \n",
      " 8   color       40102 non-null  int32  \n",
      " 9   Mixed       40102 non-null  bool   \n",
      " 10  days_in     40102 non-null  float64\n",
      " 11  in_season   40102 non-null  int32  \n",
      " 12  out_season  40102 non-null  int32  \n",
      " 13  breed       40102 non-null  int32  \n",
      "dtypes: bool(1), float64(1), int32(12)\n",
      "memory usage: 2.5 MB\n"
     ]
    }
   ],
   "source": [
    "data.info()"
   ]
  },
  {
   "cell_type": "markdown",
   "metadata": {},
   "source": [
    "Splitting the data into test and train sets"
   ]
  },
  {
   "cell_type": "code",
   "execution_count": 120,
   "metadata": {},
   "outputs": [
    {
     "name": "stdout",
     "output_type": "stream",
     "text": [
      "Accuracy of Random Forest Classifier: 0.66\n"
     ]
    }
   ],
   "source": [
    "X = data.drop('outtype', axis=1)  # Features\n",
    "y = data['outtype']  # Target variable\n",
    "\n",
    "# Split the dataset into training and testing sets (adjust the test_size as needed)\n",
    "X_train, X_test, y_train, y_test = train_test_split(X, y, test_size=0.2, random_state=42)\n",
    "\n",
    "# Create a Random Forest Classifier\n",
    "rf_model = RandomForestClassifier(n_estimators=100, random_state=42)\n",
    "\n",
    "# Train the model on the training data\n",
    "rf_model.fit(X_train, y_train)\n",
    "\n",
    "# Make predictions on the test data\n",
    "y_pred = rf_model.predict(X_test)\n",
    "\n",
    "# Evaluate the model's accuracy\n",
    "accuracy = accuracy_score(y_test, y_pred)\n",
    "print(f'Accuracy of Random Forest Classifier: {accuracy:.2f}')"
   ]
  },
  {
   "cell_type": "code",
   "execution_count": 121,
   "metadata": {},
   "outputs": [],
   "source": [
    "#split data into test and train sets\n",
    "train, test = train_test_split(data, test_size = 0.3)"
   ]
  },
  {
   "cell_type": "code",
   "execution_count": 122,
   "metadata": {},
   "outputs": [
    {
     "name": "stdout",
     "output_type": "stream",
     "text": [
      "0     8494\n",
      "4     4339\n",
      "9     3820\n",
      "10    3681\n",
      "12    2559\n",
      "3     1881\n",
      "11    1475\n",
      "2      631\n",
      "8      553\n",
      "13     342\n",
      "1      261\n",
      "6       18\n",
      "7       15\n",
      "5        2\n",
      "Name: outtype, dtype: int64\n",
      "0     3657\n",
      "4     1842\n",
      "9     1674\n",
      "10    1550\n",
      "12    1071\n",
      "3      834\n",
      "11     663\n",
      "2      251\n",
      "8      226\n",
      "13     140\n",
      "1      106\n",
      "7       10\n",
      "6        7\n",
      "Name: outtype, dtype: int64\n"
     ]
    }
   ],
   "source": [
    "#confirm balance\n",
    "print(train['outtype'].value_counts())\n",
    "print(test['outtype'].value_counts())"
   ]
  },
  {
   "cell_type": "code",
   "execution_count": 123,
   "metadata": {},
   "outputs": [
    {
     "name": "stdout",
     "output_type": "stream",
     "text": [
      "0     0.302590\n",
      "4     0.154572\n",
      "9     0.136084\n",
      "10    0.131132\n",
      "12    0.091162\n",
      "3     0.067009\n",
      "11    0.052545\n",
      "2     0.022479\n",
      "8     0.019700\n",
      "13    0.012183\n",
      "1     0.009298\n",
      "6     0.000641\n",
      "7     0.000534\n",
      "5     0.000071\n",
      "Name: outtype, dtype: float64\n",
      "0     0.303965\n",
      "4     0.153104\n",
      "9     0.139141\n",
      "10    0.128834\n",
      "12    0.089020\n",
      "3     0.069321\n",
      "11    0.055108\n",
      "2     0.020863\n",
      "8     0.018785\n",
      "13    0.011637\n",
      "1     0.008811\n",
      "7     0.000831\n",
      "6     0.000582\n",
      "Name: outtype, dtype: float64\n"
     ]
    }
   ],
   "source": [
    "#find the proportions for outcomes for test and train\n",
    "print(train['outtype'].value_counts()/len(train))\n",
    "print(test['outtype'].value_counts()/len(test))\n"
   ]
  },
  {
   "cell_type": "markdown",
   "metadata": {},
   "source": [
    "Creating a random forest model"
   ]
  },
  {
   "cell_type": "code",
   "execution_count": 124,
   "metadata": {},
   "outputs": [],
   "source": [
    "rf_model = RandomForestClassifier(n_estimators=100, random_state=42)"
   ]
  },
  {
   "cell_type": "code",
   "execution_count": 125,
   "metadata": {},
   "outputs": [
    {
     "data": {
      "text/html": [
       "<style>#sk-container-id-4 {color: black;}#sk-container-id-4 pre{padding: 0;}#sk-container-id-4 div.sk-toggleable {background-color: white;}#sk-container-id-4 label.sk-toggleable__label {cursor: pointer;display: block;width: 100%;margin-bottom: 0;padding: 0.3em;box-sizing: border-box;text-align: center;}#sk-container-id-4 label.sk-toggleable__label-arrow:before {content: \"▸\";float: left;margin-right: 0.25em;color: #696969;}#sk-container-id-4 label.sk-toggleable__label-arrow:hover:before {color: black;}#sk-container-id-4 div.sk-estimator:hover label.sk-toggleable__label-arrow:before {color: black;}#sk-container-id-4 div.sk-toggleable__content {max-height: 0;max-width: 0;overflow: hidden;text-align: left;background-color: #f0f8ff;}#sk-container-id-4 div.sk-toggleable__content pre {margin: 0.2em;color: black;border-radius: 0.25em;background-color: #f0f8ff;}#sk-container-id-4 input.sk-toggleable__control:checked~div.sk-toggleable__content {max-height: 200px;max-width: 100%;overflow: auto;}#sk-container-id-4 input.sk-toggleable__control:checked~label.sk-toggleable__label-arrow:before {content: \"▾\";}#sk-container-id-4 div.sk-estimator input.sk-toggleable__control:checked~label.sk-toggleable__label {background-color: #d4ebff;}#sk-container-id-4 div.sk-label input.sk-toggleable__control:checked~label.sk-toggleable__label {background-color: #d4ebff;}#sk-container-id-4 input.sk-hidden--visually {border: 0;clip: rect(1px 1px 1px 1px);clip: rect(1px, 1px, 1px, 1px);height: 1px;margin: -1px;overflow: hidden;padding: 0;position: absolute;width: 1px;}#sk-container-id-4 div.sk-estimator {font-family: monospace;background-color: #f0f8ff;border: 1px dotted black;border-radius: 0.25em;box-sizing: border-box;margin-bottom: 0.5em;}#sk-container-id-4 div.sk-estimator:hover {background-color: #d4ebff;}#sk-container-id-4 div.sk-parallel-item::after {content: \"\";width: 100%;border-bottom: 1px solid gray;flex-grow: 1;}#sk-container-id-4 div.sk-label:hover label.sk-toggleable__label {background-color: #d4ebff;}#sk-container-id-4 div.sk-serial::before {content: \"\";position: absolute;border-left: 1px solid gray;box-sizing: border-box;top: 0;bottom: 0;left: 50%;z-index: 0;}#sk-container-id-4 div.sk-serial {display: flex;flex-direction: column;align-items: center;background-color: white;padding-right: 0.2em;padding-left: 0.2em;position: relative;}#sk-container-id-4 div.sk-item {position: relative;z-index: 1;}#sk-container-id-4 div.sk-parallel {display: flex;align-items: stretch;justify-content: center;background-color: white;position: relative;}#sk-container-id-4 div.sk-item::before, #sk-container-id-4 div.sk-parallel-item::before {content: \"\";position: absolute;border-left: 1px solid gray;box-sizing: border-box;top: 0;bottom: 0;left: 50%;z-index: -1;}#sk-container-id-4 div.sk-parallel-item {display: flex;flex-direction: column;z-index: 1;position: relative;background-color: white;}#sk-container-id-4 div.sk-parallel-item:first-child::after {align-self: flex-end;width: 50%;}#sk-container-id-4 div.sk-parallel-item:last-child::after {align-self: flex-start;width: 50%;}#sk-container-id-4 div.sk-parallel-item:only-child::after {width: 0;}#sk-container-id-4 div.sk-dashed-wrapped {border: 1px dashed gray;margin: 0 0.4em 0.5em 0.4em;box-sizing: border-box;padding-bottom: 0.4em;background-color: white;}#sk-container-id-4 div.sk-label label {font-family: monospace;font-weight: bold;display: inline-block;line-height: 1.2em;}#sk-container-id-4 div.sk-label-container {text-align: center;}#sk-container-id-4 div.sk-container {/* jupyter's `normalize.less` sets `[hidden] { display: none; }` but bootstrap.min.css set `[hidden] { display: none !important; }` so we also need the `!important` here to be able to override the default hidden behavior on the sphinx rendered scikit-learn.org. See: https://github.com/scikit-learn/scikit-learn/issues/21755 */display: inline-block !important;position: relative;}#sk-container-id-4 div.sk-text-repr-fallback {display: none;}</style><div id=\"sk-container-id-4\" class=\"sk-top-container\"><div class=\"sk-text-repr-fallback\"><pre>RandomForestClassifier(random_state=42)</pre><b>In a Jupyter environment, please rerun this cell to show the HTML representation or trust the notebook. <br />On GitHub, the HTML representation is unable to render, please try loading this page with nbviewer.org.</b></div><div class=\"sk-container\" hidden><div class=\"sk-item\"><div class=\"sk-estimator sk-toggleable\"><input class=\"sk-toggleable__control sk-hidden--visually\" id=\"sk-estimator-id-4\" type=\"checkbox\" checked><label for=\"sk-estimator-id-4\" class=\"sk-toggleable__label sk-toggleable__label-arrow\">RandomForestClassifier</label><div class=\"sk-toggleable__content\"><pre>RandomForestClassifier(random_state=42)</pre></div></div></div></div></div>"
      ],
      "text/plain": [
       "RandomForestClassifier(random_state=42)"
      ]
     },
     "execution_count": 125,
     "metadata": {},
     "output_type": "execute_result"
    }
   ],
   "source": [
    "rf_model.fit(X_train, y_train)"
   ]
  },
  {
   "cell_type": "code",
   "execution_count": 126,
   "metadata": {},
   "outputs": [],
   "source": [
    "#create a decision tree classifier\n",
    "from sklearn.tree import DecisionTreeClassifier\n",
    "dt_model = DecisionTreeClassifier(max_depth=10, random_state=42)"
   ]
  },
  {
   "cell_type": "code",
   "execution_count": 127,
   "metadata": {},
   "outputs": [
    {
     "data": {
      "text/html": [
       "<style>#sk-container-id-5 {color: black;}#sk-container-id-5 pre{padding: 0;}#sk-container-id-5 div.sk-toggleable {background-color: white;}#sk-container-id-5 label.sk-toggleable__label {cursor: pointer;display: block;width: 100%;margin-bottom: 0;padding: 0.3em;box-sizing: border-box;text-align: center;}#sk-container-id-5 label.sk-toggleable__label-arrow:before {content: \"▸\";float: left;margin-right: 0.25em;color: #696969;}#sk-container-id-5 label.sk-toggleable__label-arrow:hover:before {color: black;}#sk-container-id-5 div.sk-estimator:hover label.sk-toggleable__label-arrow:before {color: black;}#sk-container-id-5 div.sk-toggleable__content {max-height: 0;max-width: 0;overflow: hidden;text-align: left;background-color: #f0f8ff;}#sk-container-id-5 div.sk-toggleable__content pre {margin: 0.2em;color: black;border-radius: 0.25em;background-color: #f0f8ff;}#sk-container-id-5 input.sk-toggleable__control:checked~div.sk-toggleable__content {max-height: 200px;max-width: 100%;overflow: auto;}#sk-container-id-5 input.sk-toggleable__control:checked~label.sk-toggleable__label-arrow:before {content: \"▾\";}#sk-container-id-5 div.sk-estimator input.sk-toggleable__control:checked~label.sk-toggleable__label {background-color: #d4ebff;}#sk-container-id-5 div.sk-label input.sk-toggleable__control:checked~label.sk-toggleable__label {background-color: #d4ebff;}#sk-container-id-5 input.sk-hidden--visually {border: 0;clip: rect(1px 1px 1px 1px);clip: rect(1px, 1px, 1px, 1px);height: 1px;margin: -1px;overflow: hidden;padding: 0;position: absolute;width: 1px;}#sk-container-id-5 div.sk-estimator {font-family: monospace;background-color: #f0f8ff;border: 1px dotted black;border-radius: 0.25em;box-sizing: border-box;margin-bottom: 0.5em;}#sk-container-id-5 div.sk-estimator:hover {background-color: #d4ebff;}#sk-container-id-5 div.sk-parallel-item::after {content: \"\";width: 100%;border-bottom: 1px solid gray;flex-grow: 1;}#sk-container-id-5 div.sk-label:hover label.sk-toggleable__label {background-color: #d4ebff;}#sk-container-id-5 div.sk-serial::before {content: \"\";position: absolute;border-left: 1px solid gray;box-sizing: border-box;top: 0;bottom: 0;left: 50%;z-index: 0;}#sk-container-id-5 div.sk-serial {display: flex;flex-direction: column;align-items: center;background-color: white;padding-right: 0.2em;padding-left: 0.2em;position: relative;}#sk-container-id-5 div.sk-item {position: relative;z-index: 1;}#sk-container-id-5 div.sk-parallel {display: flex;align-items: stretch;justify-content: center;background-color: white;position: relative;}#sk-container-id-5 div.sk-item::before, #sk-container-id-5 div.sk-parallel-item::before {content: \"\";position: absolute;border-left: 1px solid gray;box-sizing: border-box;top: 0;bottom: 0;left: 50%;z-index: -1;}#sk-container-id-5 div.sk-parallel-item {display: flex;flex-direction: column;z-index: 1;position: relative;background-color: white;}#sk-container-id-5 div.sk-parallel-item:first-child::after {align-self: flex-end;width: 50%;}#sk-container-id-5 div.sk-parallel-item:last-child::after {align-self: flex-start;width: 50%;}#sk-container-id-5 div.sk-parallel-item:only-child::after {width: 0;}#sk-container-id-5 div.sk-dashed-wrapped {border: 1px dashed gray;margin: 0 0.4em 0.5em 0.4em;box-sizing: border-box;padding-bottom: 0.4em;background-color: white;}#sk-container-id-5 div.sk-label label {font-family: monospace;font-weight: bold;display: inline-block;line-height: 1.2em;}#sk-container-id-5 div.sk-label-container {text-align: center;}#sk-container-id-5 div.sk-container {/* jupyter's `normalize.less` sets `[hidden] { display: none; }` but bootstrap.min.css set `[hidden] { display: none !important; }` so we also need the `!important` here to be able to override the default hidden behavior on the sphinx rendered scikit-learn.org. See: https://github.com/scikit-learn/scikit-learn/issues/21755 */display: inline-block !important;position: relative;}#sk-container-id-5 div.sk-text-repr-fallback {display: none;}</style><div id=\"sk-container-id-5\" class=\"sk-top-container\"><div class=\"sk-text-repr-fallback\"><pre>DecisionTreeClassifier(max_depth=10, random_state=42)</pre><b>In a Jupyter environment, please rerun this cell to show the HTML representation or trust the notebook. <br />On GitHub, the HTML representation is unable to render, please try loading this page with nbviewer.org.</b></div><div class=\"sk-container\" hidden><div class=\"sk-item\"><div class=\"sk-estimator sk-toggleable\"><input class=\"sk-toggleable__control sk-hidden--visually\" id=\"sk-estimator-id-5\" type=\"checkbox\" checked><label for=\"sk-estimator-id-5\" class=\"sk-toggleable__label sk-toggleable__label-arrow\">DecisionTreeClassifier</label><div class=\"sk-toggleable__content\"><pre>DecisionTreeClassifier(max_depth=10, random_state=42)</pre></div></div></div></div></div>"
      ],
      "text/plain": [
       "DecisionTreeClassifier(max_depth=10, random_state=42)"
      ]
     },
     "execution_count": 127,
     "metadata": {},
     "output_type": "execute_result"
    }
   ],
   "source": [
    "#train the dt model\n",
    "dt_model.fit(X_train, y_train)\n"
   ]
  },
  {
   "cell_type": "code",
   "execution_count": 128,
   "metadata": {},
   "outputs": [],
   "source": [
    "#make predictions on the test data\n",
    "y_pred = dt_model.predict(X_test)\n"
   ]
  },
  {
   "cell_type": "code",
   "execution_count": 129,
   "metadata": {},
   "outputs": [
    {
     "name": "stdout",
     "output_type": "stream",
     "text": [
      "Accuracy of Decision Tree Classifier: 0.66\n"
     ]
    }
   ],
   "source": [
    "#evaluate the model's accuracy\n",
    "accuracy = accuracy_score(y_test, y_pred)\n",
    "print(f'Accuracy of Decision Tree Classifier: {accuracy:.2f}')\n"
   ]
  },
  {
   "cell_type": "code",
   "execution_count": 130,
   "metadata": {},
   "outputs": [
    {
     "data": {
      "text/html": [
       "<div>\n",
       "<style scoped>\n",
       "    .dataframe tbody tr th:only-of-type {\n",
       "        vertical-align: middle;\n",
       "    }\n",
       "\n",
       "    .dataframe tbody tr th {\n",
       "        vertical-align: top;\n",
       "    }\n",
       "\n",
       "    .dataframe thead th {\n",
       "        text-align: right;\n",
       "    }\n",
       "</style>\n",
       "<table border=\"1\" class=\"dataframe\">\n",
       "  <thead>\n",
       "    <tr style=\"text-align: right;\">\n",
       "      <th></th>\n",
       "      <th>importance</th>\n",
       "    </tr>\n",
       "  </thead>\n",
       "  <tbody>\n",
       "    <tr>\n",
       "      <th>intype</th>\n",
       "      <td>0.262516</td>\n",
       "    </tr>\n",
       "    <tr>\n",
       "      <th>days_in</th>\n",
       "      <td>0.250849</td>\n",
       "    </tr>\n",
       "    <tr>\n",
       "      <th>sex</th>\n",
       "      <td>0.115716</td>\n",
       "    </tr>\n",
       "    <tr>\n",
       "      <th>animaltype</th>\n",
       "      <td>0.113437</td>\n",
       "    </tr>\n",
       "    <tr>\n",
       "      <th>petsize</th>\n",
       "      <td>0.106433</td>\n",
       "    </tr>\n",
       "    <tr>\n",
       "      <th>surreason</th>\n",
       "      <td>0.045760</td>\n",
       "    </tr>\n",
       "    <tr>\n",
       "      <th>insubtype</th>\n",
       "      <td>0.024144</td>\n",
       "    </tr>\n",
       "    <tr>\n",
       "      <th>out_season</th>\n",
       "      <td>0.019156</td>\n",
       "    </tr>\n",
       "    <tr>\n",
       "      <th>breed</th>\n",
       "      <td>0.018032</td>\n",
       "    </tr>\n",
       "    <tr>\n",
       "      <th>color</th>\n",
       "      <td>0.014097</td>\n",
       "    </tr>\n",
       "    <tr>\n",
       "      <th>bites</th>\n",
       "      <td>0.014045</td>\n",
       "    </tr>\n",
       "    <tr>\n",
       "      <th>in_season</th>\n",
       "      <td>0.011562</td>\n",
       "    </tr>\n",
       "    <tr>\n",
       "      <th>Mixed</th>\n",
       "      <td>0.004252</td>\n",
       "    </tr>\n",
       "  </tbody>\n",
       "</table>\n",
       "</div>"
      ],
      "text/plain": [
       "            importance\n",
       "intype        0.262516\n",
       "days_in       0.250849\n",
       "sex           0.115716\n",
       "animaltype    0.113437\n",
       "petsize       0.106433\n",
       "surreason     0.045760\n",
       "insubtype     0.024144\n",
       "out_season    0.019156\n",
       "breed         0.018032\n",
       "color         0.014097\n",
       "bites         0.014045\n",
       "in_season     0.011562\n",
       "Mixed         0.004252"
      ]
     },
     "execution_count": 130,
     "metadata": {},
     "output_type": "execute_result"
    }
   ],
   "source": [
    "#print the feature importances\n",
    "feature_importances = pd.DataFrame(dt_model.feature_importances_,\n",
    "                                   index = X_train.columns,\n",
    "                                    columns=['importance']).sort_values('importance', ascending=False)\n",
    "feature_importances\n"
   ]
  }
 ],
 "metadata": {
  "kernelspec": {
   "display_name": "base",
   "language": "python",
   "name": "python3"
  },
  "language_info": {
   "codemirror_mode": {
    "name": "ipython",
    "version": 3
   },
   "file_extension": ".py",
   "mimetype": "text/x-python",
   "name": "python",
   "nbconvert_exporter": "python",
   "pygments_lexer": "ipython3",
   "version": "3.11.4"
  },
  "orig_nbformat": 4
 },
 "nbformat": 4,
 "nbformat_minor": 2
}
